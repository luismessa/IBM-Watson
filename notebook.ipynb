{
    "cells": [
        {
            "metadata": {
                "collapsed": true
            },
            "cell_type": "markdown",
            "source": "# My Jupyter Notebook on IBM Watson Studio"
        },
        {
            "metadata": {},
            "cell_type": "markdown",
            "source": "Luis Messa\n"
        },
        {
            "metadata": {},
            "cell_type": "markdown",
            "source": "Electronic Engineer"
        },
        {
            "metadata": {},
            "cell_type": "markdown",
            "source": "*I am interested in data science because I want to be a data scientist*"
        },
        {
            "metadata": {},
            "cell_type": "markdown",
            "source": "### Histogram Plotting"
        },
        {
            "metadata": {
                "scrolled": false
            },
            "cell_type": "code",
            "source": "import numpy as np\nimport matplotlib.pyplot as plt\n\n# Graficando histograma\nmu, sigma = 0, 0.2 # media y desvio estandar\ndatos = np.random.normal(mu, sigma, 1000) #creando muestra de datos\n\n# histograma de distribuci\u00f3n normal.\ncuenta, cajas, ignorar = plt.hist(datos, 20)\nplt.ylabel('frequencia')\nplt.xlabel('valores')\nplt.title('Histograma')\nplt.show()",
            "execution_count": 33,
            "outputs": [
                {
                    "output_type": "display_data",
                    "data": {
                        "text/plain": "<Figure size 432x288 with 1 Axes>",
                        "image/png": "[encoded data removed]"
                    },
                    "metadata": {
                        "needs_background": "light"
                    }
                }
            ]
        },
        {
            "metadata": {},
            "cell_type": "markdown",
            "source": "Histogram\n___\n> **Esto** es un `histograma`\n[Google](https://www.google.com)"
        },
        {
            "metadata": {},
            "cell_type": "code",
            "source": "",
            "execution_count": null,
            "outputs": []
        }
    ],
    "metadata": {
        "kernelspec": {
            "name": "python3",
            "display_name": "Python 3.7",
            "language": "python"
        },
        "language_info": {
            "name": "python",
            "version": "3.7.10",
            "mimetype": "text/x-python",
            "codemirror_mode": {
                "name": "ipython",
                "version": 3
            },
            "pygments_lexer": "ipython3",
            "nbconvert_exporter": "python",
            "file_extension": ".py"
        }
    },
    "nbformat": 4,
    "nbformat_minor": 1
}